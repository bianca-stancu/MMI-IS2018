{
 "cells": [
  {
   "cell_type": "markdown",
   "metadata": {
    "deletable": true,
    "editable": true
   },
   "source": [
    "# Exercise 3 - Implementing CMAC – a Cipher-based MAC "
   ]
  },
  {
   "cell_type": "markdown",
   "metadata": {
    "deletable": true,
    "editable": true
   },
   "source": [
    "### - Assignment 5 - Stancu Bianca & Tharani Neha -  ###"
   ]
  },
  {
   "cell_type": "markdown",
   "metadata": {
    "deletable": true,
    "editable": true
   },
   "source": [
    "## Imports"
   ]
  },
  {
   "cell_type": "code",
   "execution_count": 2,
   "metadata": {
    "collapsed": false,
    "deletable": true,
    "editable": true
   },
   "outputs": [],
   "source": [
    "from sage.crypto.mq.rijndael_gf import RijndaelGF\n",
    "import string\n",
    "from datetime import datetime"
   ]
  },
  {
   "cell_type": "markdown",
   "metadata": {
    "deletable": true,
    "editable": true
   },
   "source": [
    "##  Helper functions"
   ]
  },
  {
   "cell_type": "markdown",
   "metadata": {
    "deletable": true,
    "editable": true
   },
   "source": [
    "In case the received message does not fit, we will need to pad with 1, then 0s."
   ]
  },
  {
   "cell_type": "code",
   "execution_count": 3,
   "metadata": {
    "collapsed": true,
    "deletable": true,
    "editable": true
   },
   "outputs": [],
   "source": [
    "def messagepad(message, block):\n",
    "    if(len(message)%block) != 0:\n",
    "        l = (len(message)//block+1)*block\n",
    "        message=message+\"1\"\n",
    "        while len(message)!=l:\n",
    "            message=message+\"0\"\n",
    "    return message"
   ]
  },
  {
   "cell_type": "markdown",
   "metadata": {
    "deletable": true,
    "editable": true
   },
   "source": [
    "Function to generate a string of 0s of length b"
   ]
  },
  {
   "cell_type": "code",
   "execution_count": 4,
   "metadata": {
    "collapsed": true,
    "deletable": true,
    "editable": true
   },
   "outputs": [],
   "source": [
    "def generate_zeros(b):\n",
    "    return \"0\" * b"
   ]
  },
  {
   "cell_type": "markdown",
   "metadata": {
    "deletable": true,
    "editable": true
   },
   "source": [
    "Function to convert array to binary string."
   ]
  },
  {
   "cell_type": "code",
   "execution_count": 5,
   "metadata": {
    "collapsed": true,
    "deletable": true,
    "editable": true
   },
   "outputs": [],
   "source": [
    "def arrayToString(v):\n",
    "    v = str(v)\n",
    "    v = v.replace(\"[\",\"\")\n",
    "    v = v.replace(\"]\",\"\")\n",
    "    v = v.replace(\" \",\"\")\n",
    "    v = v.replace(\",\",\"\")\n",
    "    return v"
   ]
  },
  {
   "cell_type": "markdown",
   "metadata": {
    "deletable": true,
    "editable": true
   },
   "source": [
    "Function to XOR two blocks, as presented in a previous lab."
   ]
  },
  {
   "cell_type": "code",
   "execution_count": 6,
   "metadata": {
    "collapsed": true,
    "deletable": true,
    "editable": true
   },
   "outputs": [],
   "source": [
    "def XorBlock(block1, block2):\n",
    "    l = len(block1);\n",
    "    if (l != len(block2)):\n",
    "        raise ValueError, \"XorBlock arguments must be same length\"\n",
    "    return [(int(block1[j])+int(block2[j])) % 2 for j in xrange(l)];"
   ]
  },
  {
   "cell_type": "markdown",
   "metadata": {
    "deletable": true,
    "editable": true
   },
   "source": [
    "Function to generate L for the process of subkey generation."
   ]
  },
  {
   "cell_type": "code",
   "execution_count": 7,
   "metadata": {
    "collapsed": true,
    "deletable": true,
    "editable": true
   },
   "outputs": [],
   "source": [
    "def L_generation(key,b):\n",
    "    rgf = RijndaelGF(4, 4)\n",
    "    zeros = generate_zeros(b)\n",
    "    L = rgf(zeros, key, format='binary')\n",
    "    return L"
   ]
  },
  {
   "cell_type": "markdown",
   "metadata": {
    "deletable": true,
    "editable": true
   },
   "source": [
    "Function to generate the two subkeys."
   ]
  },
  {
   "cell_type": "code",
   "execution_count": 22,
   "metadata": {
    "collapsed": true,
    "deletable": true,
    "editable": true
   },
   "outputs": [],
   "source": [
    "def generate_subkeys(b,key):\n",
    "    q = 2^b\n",
    "    F.<x> = GF(q)\n",
    "    pol_x = F(x)\n",
    "    L = L_generation(key,b)\n",
    "    L = list(L)\n",
    "    L = L[::-1]\n",
    "    L = F(L)\n",
    "    k1 = L*pol_x\n",
    "    k2 = k1*pol_x\n",
    "    k1b=k1.polynomial().coefficients(sparse=False)\n",
    "    k2b=k2.polynomial().coefficients(sparse=False)\n",
    "    k1 = arrayToString(k1b)\n",
    "    k2 = arrayToString(k2b)\n",
    "    k1 = k1.zfill(b)\n",
    "    k2 = k2.zfill(b)\n",
    "    return (k1,k2)"
   ]
  },
  {
   "cell_type": "markdown",
   "metadata": {
    "deletable": true,
    "editable": true
   },
   "source": [
    "CMAC implementation."
   ]
  },
  {
   "cell_type": "code",
   "execution_count": 9,
   "metadata": {
    "collapsed": false,
    "deletable": true,
    "editable": true
   },
   "outputs": [],
   "source": [
    "def CMAC(key,b,message,Tlen):\n",
    "    if(Tlen > b):\n",
    "        raise ValueError, \"Tlen must be smaller than block size.\"\n",
    "    k1 = generate_subkeys(b,key)[0]\n",
    "    k2 = generate_subkeys(b,key)[1]\n",
    "    rgf = RijndaelGF(4, 4)\n",
    "    ilength = len(message)\n",
    "    message = messagepad(message,b)\n",
    "    padded = False\n",
    "    if len(message)!=ilength:\n",
    "        padded = True\n",
    "    prev=\"\"\n",
    "    c=\"\"\n",
    "    for i in xrange(0,len(message),b):\n",
    "        block = message[i:i+b]\n",
    "        if i == 0:\n",
    "            c = rgf(block, key, format='binary')\n",
    "            prev = c\n",
    "        else:\n",
    "            xorVal = XorBlock(prev,block)\n",
    "            if i+b == len(message):\n",
    "                if padded == True:\n",
    "                    xorVal = XorBlock(xorVal,k1)\n",
    "                else:\n",
    "                    xorVal = XorBlock(xorVal,k2)\n",
    "            xorVal =arrayToString(xorVal)\n",
    "            c = rgf(xorVal, key, format='binary')\n",
    "            prev = c\n",
    "    return c[0:Tlen]"
   ]
  },
  {
   "cell_type": "markdown",
   "metadata": {
    "deletable": true,
    "editable": true
   },
   "source": [
    "## Running CMAC"
   ]
  },
  {
   "cell_type": "code",
   "execution_count": 24,
   "metadata": {
    "collapsed": false,
    "deletable": true,
    "editable": true
   },
   "outputs": [
    {
     "name": "stdout",
     "output_type": "stream",
     "text": [
      "Length of key: 128\n",
      "Length of message1:816\n",
      "Length of message2:256\n"
     ]
    }
   ],
   "source": [
    "b = 128\n",
    "k = 128\n",
    "key = \"11111000000101011111010111011100100010101010111100111000111001001010001110000011101000000010110001001110100111000101010010101011\"\n",
    "print \"Length of key: \" + str(len(key))\n",
    "message1 = \"11010100010001001001001101111111010000011000001001100011110110011011100110101101100110000001011000111111101001110110100111100111110111000000011010110111101101010001001000011011100010000000000111010011101110001000101101011100100001000010011110100011001101000101111000111001\" * 3\n",
    "print \"Length of message1:\" + str(len(message1))\n",
    "message2 = \"1101010001000100100100110111111101000001100000100110001111011001101110011010110110011000000101100011111110100111011010011110011111011100000001101011011110110101000100100001101110001000000000011101001110111000100010110101110010000100001001111010001100110100\"\n",
    "print \"Length of message2:\" + str(len(message2))"
   ]
  },
  {
   "cell_type": "code",
   "execution_count": 25,
   "metadata": {
    "collapsed": false,
    "deletable": true,
    "editable": true
   },
   "outputs": [
    {
     "name": "stdout",
     "output_type": "stream",
     "text": [
      "CMAC for message with padding:\n",
      "x\n",
      "x\n",
      "1111011110110111111101000000011010011001000001101011000001010101\n",
      "Duration: 0:00:08.137358\n",
      "CMAc for message without padding:\n",
      "x\n",
      "x\n",
      "1101001100100010101011111110100110111011111001010011011110001111\n",
      "Duration: 0:00:03.559168\n"
     ]
    }
   ],
   "source": [
    "print \"CMAC for message with padding:\"\n",
    "start_time = datetime.now()\n",
    "cmac = CMAC(key,b,message1,64)\n",
    "print cmac\n",
    "end_time = datetime.now()\n",
    "print('Duration: {}'.format(end_time - start_time))\n",
    "\n",
    "print \"CMAc for message without padding:\"\n",
    "start_time = datetime.now()\n",
    "cmac = CMAC(key,b,message2,64)\n",
    "print cmac\n",
    "end_time = datetime.now()\n",
    "print('Duration: {}'.format(end_time - start_time))"
   ]
  },
  {
   "cell_type": "code",
   "execution_count": null,
   "metadata": {
    "collapsed": true,
    "deletable": true,
    "editable": true
   },
   "outputs": [],
   "source": []
  }
 ],
 "metadata": {
  "kernelspec": {
   "display_name": "SageMath 8.1",
   "language": "",
   "name": "sagemath"
  },
  "language_info": {
   "codemirror_mode": {
    "name": "ipython",
    "version": 2
   },
   "file_extension": ".py",
   "mimetype": "text/x-python",
   "name": "python",
   "nbconvert_exporter": "python",
   "pygments_lexer": "ipython2",
   "version": "2.7.14"
  }
 },
 "nbformat": 4,
 "nbformat_minor": 2
}
