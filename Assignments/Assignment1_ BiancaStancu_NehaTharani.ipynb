{
 "cells": [
  {
   "cell_type": "markdown",
   "metadata": {
    "deletable": true,
    "editable": true
   },
   "source": [
    "# Assignment #1 - Bianca Stancu & Neha Tharani"
   ]
  },
  {
   "cell_type": "markdown",
   "metadata": {
    "deletable": true,
    "editable": true
   },
   "source": [
    "## Exercise 3 - Frequency-based attack on monoalphabetic ciphers"
   ]
  },
  {
   "cell_type": "markdown",
   "metadata": {},
   "source": [
    "Implement a new function that takes a partial mono-alphabetic substitution and a ciphertext, and returns a potential plaintext. The partial mono-alphabetic substitution should be specified as a 26-character string where the character at position i is the substitution of i-th character of the alphabet. If the corresponding substitution is unknown at position i, an underscore ’ ’ should be used. Submit a Jupyter worksheet with commented source code, ideally including working examples. Please include a printout of the worksheet in your pdf.\n",
    "The potential plaintext should be derived substituting characters from the alphabet of the ciphertext with values specified by the mono-alphabetic substitution as lower-case plaintext. If the corresponding character is unknown (i.e. ’ ’ in the mono-alphabetic substitution cipher) the ciphertext is printed as an uppercase character."
   ]
  },
  {
   "cell_type": "markdown",
   "metadata": {
    "deletable": true,
    "editable": true
   },
   "source": [
    "### Setup"
   ]
  },
  {
   "cell_type": "code",
   "execution_count": 1,
   "metadata": {
    "collapsed": true,
    "deletable": true,
    "editable": true
   },
   "outputs": [],
   "source": [
    "# Setup the alphabet (capital letters of the English alphabet)\n",
    "AS = AlphabeticStrings()\n",
    "\n",
    "# Initialize a Shift (or Substitution) crypto system configured with the English alphabet\n",
    "E = SubstitutionCryptosystem(AS) "
   ]
  },
  {
   "cell_type": "markdown",
   "metadata": {
    "deletable": true,
    "editable": true
   },
   "source": [
    "### Helper function (Exercise 3 Part a)"
   ]
  },
  {
   "cell_type": "code",
   "execution_count": 2,
   "metadata": {
    "collapsed": false,
    "deletable": true,
    "editable": true
   },
   "outputs": [],
   "source": [
    "def partial_decrypt(partial_key, ciphertext):\n",
    "    alphabet = \"abcdefghijklmnopqrstuvwxyz\"\n",
    "    for i in ciphertext:\n",
    "        if i.isupper():\n",
    "            letter_position = partial_key.find(i)\n",
    "            if letter_position != -1 and partial_key[letter_position] != \"_\":\n",
    "                ciphertext = ciphertext.replace(i,alphabet[letter_position])\n",
    "    return ciphertext"
   ]
  },
  {
   "cell_type": "markdown",
   "metadata": {
    "deletable": true,
    "editable": true
   },
   "source": [
    "### Decrypting using helper function"
   ]
  },
  {
   "cell_type": "code",
   "execution_count": 3,
   "metadata": {
    "collapsed": false,
    "deletable": true,
    "editable": true
   },
   "outputs": [
    {
     "name": "stdout",
     "output_type": "stream",
     "text": [
      "information\n",
      "sHerlock\n"
     ]
    }
   ],
   "source": [
    "#Example 1\n",
    "print partial_decrypt(\"QAZPLM__XOKNEDCI_BRFVUWGTY\",\"XDMCBEQFXCD\")\n",
    "\n",
    "#Example 2\n",
    "print partial_decrypt(\"QAZPLM__XOKNEDCI_BRFVUWGTY\",\"RHLBNCZK\")"
   ]
  },
  {
   "cell_type": "markdown",
   "metadata": {
    "deletable": true,
    "editable": true
   },
   "source": [
    "Use your function to decrypt the following ciphertext:"
   ]
  },
  {
   "cell_type": "code",
   "execution_count": 4,
   "metadata": {
    "collapsed": false,
    "deletable": true,
    "editable": true
   },
   "outputs": [
    {
     "name": "stdout",
     "output_type": "stream",
     "text": [
      "a few days after the wedding, the couple received word that reggie had been recalled to bucharest. they left within a matter of hours; manning later wrote to stevie smith from romania asking her to find out what had happened to their flat and to take care of her books while she was away.\n"
     ]
    }
   ],
   "source": [
    "cipher = \"T MOV NTKL TMSOR SUO VONNQWY, SUO CJBDZO ROCOQFON VJRN SUTS ROYYQO UTN IOOW ROCTZZON SJ IBCUTROLS. SUOK ZOMS VQSUQW T ETSSOR JM UJBRL; ETWWQWY ZTSOR VRJSO SJ LSOFQO LEQSU MRJE RJETWQT TLGQWY UOR SJ MQWN JBS VUTS UTN UTDDOWON SJ SUOQR MZTS TWN SJ STGO CTRO JM UOR IJJGL VUQZO LUO VTL TVTK.\"\n",
    "ciphertext = E.encoding(cipher)\n",
    "cipher_freq_digrams = ciphertext.frequency_distribution(length=2).function()\n",
    "cipher_freq_digrams = sorted(cipher_freq_digrams.items(),key=operator.itemgetter(1), reverse = True)\n",
    "#print cipher_freq_digrams\n",
    "\n",
    "#We make the assumption that the 2 most frequent digrams form the word THE = SUO.\n",
    "#partial_decrypt(\"____O__U___________S______\",cipher)\n",
    "\n",
    "#From here, observing the text, we deduced that:\n",
    "'''\n",
    "T = A\n",
    "I = B\n",
    "C = C\n",
    "N = D\n",
    "O = E\n",
    "M = F\n",
    "Y = G \n",
    "U = H\n",
    "Q = I\n",
    "= J\n",
    "G = K\n",
    "Z = L\n",
    "E = M\n",
    "W = N \n",
    "J = O\n",
    "D = P\n",
    "= Q\n",
    "R = R\n",
    "L = S\n",
    "S = T\n",
    "B = U\n",
    "F= V\n",
    "V = W\n",
    "= X\n",
    "K = Y\n",
    "= Z\n",
    "'''\n",
    "print partial_decrypt(\"TICNOMYUQ_GZEWJD_RLSBFV_K_\",cipher)"
   ]
  }
 ],
 "metadata": {
  "kernelspec": {
   "display_name": "SageMath 8.1",
   "language": "",
   "name": "sagemath"
  },
  "language_info": {
   "codemirror_mode": {
    "name": "ipython",
    "version": 2
   },
   "file_extension": ".py",
   "mimetype": "text/x-python",
   "name": "python",
   "nbconvert_exporter": "python",
   "pygments_lexer": "ipython2",
   "version": "2.7.14"
  },
  "widgets": {
   "state": {
    "06304f31d9e34e1081b4cd2a8c2176a1": {
     "views": [
      {
       "cell_index": 33
      }
     ]
    },
    "62061c8d36c0458180e3490209f4a60b": {
     "views": [
      {
       "cell_index": 23
      }
     ]
    },
    "d439bedcecf04cde84ce6bc09e6aa0f7": {
     "views": [
      {
       "cell_index": 21
      }
     ]
    }
   },
   "version": "1.2.0"
  }
 },
 "nbformat": 4,
 "nbformat_minor": 1
}
