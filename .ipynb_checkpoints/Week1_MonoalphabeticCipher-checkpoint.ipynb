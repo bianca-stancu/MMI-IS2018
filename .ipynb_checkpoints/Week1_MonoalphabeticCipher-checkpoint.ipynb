{
 "cells": [
  {
   "cell_type": "markdown",
   "metadata": {
    "deletable": true,
    "editable": true
   },
   "source": [
    "# Monoalphabetic Cipher"
   ]
  },
  {
   "cell_type": "code",
   "execution_count": 15,
   "metadata": {
    "collapsed": true,
    "deletable": true,
    "editable": true
   },
   "outputs": [],
   "source": [
    "import ipywidgets as widgets"
   ]
  },
  {
   "cell_type": "code",
   "execution_count": 16,
   "metadata": {
    "collapsed": true,
    "deletable": true,
    "editable": true
   },
   "outputs": [],
   "source": [
    "#Initialize alphabet\n",
    "AS = AlphabeticStrings()"
   ]
  },
  {
   "cell_type": "code",
   "execution_count": 17,
   "metadata": {
    "collapsed": true,
    "deletable": true,
    "editable": true
   },
   "outputs": [],
   "source": [
    "#Setup crypto system\n",
    "MA = SubstitutionCryptosystem(AS)"
   ]
  },
  {
   "cell_type": "code",
   "execution_count": 18,
   "metadata": {
    "collapsed": false,
    "deletable": true,
    "editable": true
   },
   "outputs": [
    {
     "name": "stdout",
     "output_type": "stream",
     "text": [
      "Key: CLESYUMZIPFVJTRKHNGAQOXDWB\n"
     ]
    }
   ],
   "source": [
    "#Generate random permutation for the crypto system\n",
    "key = MA.random_key()\n",
    "print (\"Key: \" + str(key))"
   ]
  },
  {
   "cell_type": "code",
   "execution_count": 19,
   "metadata": {
    "collapsed": false,
    "deletable": true,
    "editable": true
   },
   "outputs": [
    {
     "name": "stdout",
     "output_type": "stream",
     "text": [
      "Plain text: ITSTHEKFCSUPERSECRETRECIPE\n"
     ]
    }
   ],
   "source": [
    "#Encode\n",
    "plaintext = MA.encoding(\"It's the KFC super secret recipe!\")\n",
    "print (\"Plain text: \" + str(plaintext))"
   ]
  },
  {
   "cell_type": "code",
   "execution_count": 20,
   "metadata": {
    "collapsed": false,
    "deletable": true,
    "editable": true
   },
   "outputs": [
    {
     "name": "stdout",
     "output_type": "stream",
     "text": [
      "Cipher text: IAGAZYFUEGQKYNGYENYANYEIKY\n"
     ]
    }
   ],
   "source": [
    "#Encrypt\n",
    "ciphertext = MA.enciphering(key,plaintext)\n",
    "print (\"Cipher text: \" + str(ciphertext))"
   ]
  },
  {
   "cell_type": "code",
   "execution_count": 21,
   "metadata": {
    "collapsed": false,
    "deletable": true,
    "editable": true
   },
   "outputs": [
    {
     "name": "stdout",
     "output_type": "stream",
     "text": [
      "ITSTHEKFCSUPERSECRETRECIPE\n"
     ]
    },
    {
     "data": {
      "text/plain": [
       "'Decryption successful'"
      ]
     },
     "execution_count": 21,
     "metadata": {},
     "output_type": "execute_result"
    }
   ],
   "source": [
    "#Decrypt\n",
    "decrypt = \"\"\n",
    "alphabet = AS.gens()\n",
    "for coded_letter in ciphertext:\n",
    "    index = str(key).index(str(coded_letter)) \n",
    "    decrypt = decrypt + str(alphabet[index%26])\n",
    "print (str(decrypt))\n",
    "\"Decryption successful\" if str(decrypt) == str(plaintext) else \"Decryption not successful\" "
   ]
  },
  {
   "cell_type": "code",
   "execution_count": 22,
   "metadata": {
    "collapsed": false,
    "deletable": true,
    "editable": true
   },
   "outputs": [
    {
     "name": "stdout",
     "output_type": "stream",
     "text": [
      "ENGLISH FREQUENCIES (LEWAND TABLE): \n",
      " [('E', 0.127020000000000), ('T', 0.0905600000000000), ('A', 0.0816700000000000), ('O', 0.0750700000000000), ('I', 0.0696600000000000), ('N', 0.0674900000000000), ('S', 0.0632700000000000), ('H', 0.0609400000000000), ('R', 0.0598700000000000), ('D', 0.0425300000000000), ('L', 0.0402500000000000), ('C', 0.0278200000000000), ('U', 0.0275800000000000), ('M', 0.0240600000000000), ('W', 0.0236000000000000), ('F', 0.0222800000000000), ('G', 0.0201500000000000), ('Y', 0.0197400000000000), ('P', 0.0192900000000000), ('B', 0.0149200000000000), ('V', 0.00978000000000000), ('K', 0.00772000000000000), ('J', 0.00153000000000000), ('X', 0.00150000000000000), ('Q', 0.000950000000000000), ('Z', 0.000740000000000000)] \n",
      "\n",
      "CIPHER FREQUENCIES: \n",
      " [(Y, 0.230769230769231), (A, 0.115384615384615), (E, 0.115384615384615), (G, 0.115384615384615), (N, 0.115384615384615), (I, 0.0769230769230769), (K, 0.0769230769230769), (F, 0.0384615384615385), (Q, 0.0384615384615385), (Z, 0.0384615384615385), (U, 0.0384615384615385)] \n",
      "\n"
     ]
    }
   ],
   "source": [
    "#Computing letter frequencies in English\n",
    "english_freq = AS.characteristic_frequency(table_name=\"lewand\")\n",
    "english_freq = sorted(english_freq.items(),key=operator.itemgetter(1), reverse = True)\n",
    "\n",
    "#Computing letter frequency in the cipher\n",
    "cipher_freq = ciphertext.frequency_distribution(length=1).function()\n",
    "cipher_freq = sorted(cipher_freq.items(),key=operator.itemgetter(1), reverse = True)\n",
    "\n",
    "print (\"ENGLISH FREQUENCIES (LEWAND TABLE): \\n {} \\n\".format(english_freq))\n",
    "print (\"CIPHER FREQUENCIES: \\n {} \\n\".format(cipher_freq))\n"
   ]
  },
  {
   "cell_type": "code",
   "execution_count": 128,
   "metadata": {
    "collapsed": false,
    "deletable": true,
    "editable": true,
    "scrolled": false
   },
   "outputs": [
    {
     "name": "stdout",
     "output_type": "stream",
     "text": [
      "HEREQUESTEDTOKNOWIFAMEETINGOFTHEPEOPLEBYTHEIRDEPUTIESWOULDBEPERMITTEDBYTHEARMYATANYGIVENPOINTONTHEIRMARCHINTOTHATCOUNTRYWITHFRESHEVIDENCEOFTHESINCERITYOFTHEIRDISPOSITIONTOACQUIESCEINWHATEVERMIGHTBEREQUIREDIREPLIEDISAWNOOBJECTIONTOITPROVIDEDTHEYCAMEUNARMEDBUTTOBECAUTIOUSTHATNOTAGUNWASFIREDASTHERECOULDBENOANSWERINGFORCONSEQUENCESINTHISCASEIASSUREDTHEMTHATEVERYPOSSIBLECARESHOULDBETAKENTOKEEPTHETROOPSFROMOFFERINGTHEMANYINSULTORDAMAGEANDTHATTHOSEWHOALWAYSHADBEENSUBORDINATETOTHELAWSSUCHASHADAVAILEDTHEMSELVESOFTHEAMNESTYSHOULDNOTBEINJUREDINTHEIRPERSONSORPROPERTYANDTHATTHETREATMENTOFTHERESTWOULDDEPENDUPONTHEIROWNCONDUCTTHATTHEARMYUNLESSOPPOSEDDIDNOTMEANTOACTASEXECUTIONERSORBRINGOFFENDERSTOAMILITARYTRIBUNALBUTMERELYTOAIDTHECIVILMAGISTRATESWITHWHOMOFFENCESWOULDLYETHUSENDSTHEMATTER\n"
     ]
    }
   ],
   "source": [
    "#Frequency analysis attack\n",
    "cipher_text = MA.encoding(\"YHAHKXHIPHJPLMGLZORVUHHPOGNLRPYHEHLECHDBPYHOAJHEXPOHIZLXCJDHEHAUOPPHJDBPYHVAUBVPVGBNOFHGELOGPLGPYHOAUVATYOGPLPYVPTLXGPABZOPYRAHIYHFOJHGTHLRPYHIOGTHAOPBLRPYHOAJOIELIOPOLGPLVTKXOHITHOGZYVPHFHAUONYPDHAHKXOAHJOAHECOHJOIVZGLLDSHTPOLGPLOPEALFOJHJPYHBTVUHXGVAUHJDXPPLDHTVXPOLXIPYVPGLPVNXGZVIROAHJVIPYHAHTLXCJDHGLVGIZHAOGNRLATLGIHKXHGTHIOGPYOITVIHOVIIXAHJPYHUPYVPHFHABELIIODCHTVAHIYLXCJDHPVMHGPLMHHEPYHPALLEIRALULRRHAOGNPYHUVGBOGIXCPLAJVUVNHVGJPYVPPYLIHZYLVCZVBIYVJDHHGIXDLAJOGVPHPLPYHCVZIIXTYVIYVJVFVOCHJPYHUIHCFHILRPYHVUGHIPBIYLXCJGLPDHOGSXAHJOGPYHOAEHAILGILAEALEHAPBVGJPYVPPYHPAHVPUHGPLRPYHAHIPZLXCJJHEHGJXELGPYHOALZGTLGJXTPPYVPPYHVAUBXGCHIILEELIHJJOJGLPUHVGPLVTPVIHWHTXPOLGHAILADAOGNLRRHGJHAIPLVUOCOPVABPAODXGVCDXPUHAHCBPLVOJPYHTOFOCUVNOIPAVPHIZOPYZYLULRRHGTHIZLXCJCBHPYXIHGJIPYHUVPPHA\")\n",
    "cipher_freq = cipher_text.frequency_distribution(length=1).function()\n",
    "cipher_freq = sorted(cipher_freq.items(),key=operator.itemgetter(1), reverse = True)\n",
    "cipher_freq2 = cipher_text.frequency_distribution(length=2).function()\n",
    "cipher_freq2 = sorted(cipher_freq2.items(),key=operator.itemgetter(1), reverse = True)\n",
    "#The following dictionary is the result of multiple iterations of replacing accoring to the analysis of the frequency of the letters and groups of 2\n",
    "translate = {}\n",
    "translate[\"A\"] = \"R\"\n",
    "translate[\"B\"] = \"Y\"\n",
    "translate[\"C\"] = \"L\"\n",
    "translate[\"D\"] = \"B\"\n",
    "translate[\"E\"] = \"P\"\n",
    "translate[\"F\"] = \"V\"\n",
    "translate[\"G\"] = \"N\"\n",
    "translate[\"H\"] = \"E\"\n",
    "translate[\"I\"] = \"S\"\n",
    "translate[\"J\"] = \"D\"\n",
    "translate[\"K\"] = \"Q\" \n",
    "translate[\"L\"] = \"O\"\n",
    "translate[\"M\"] = \"K\"\n",
    "translate[\"N\"] = \"G\"\n",
    "translate[\"O\"] = \"I\"\n",
    "translate[\"P\"] = \"T\"\n",
    "translate[\"Q\"] = \"\"\n",
    "translate[\"R\"] = \"F\"\n",
    "translate[\"S\"] = \"J\"\n",
    "translate[\"T\"] = \"C\"\n",
    "translate[\"U\"] = \"M\"\n",
    "translate[\"V\"] = \"A\"\n",
    "translate[\"W\"] = \"X\"\n",
    "translate[\"X\"] = \"U\"\n",
    "translate[\"Y\"] = \"H\"\n",
    "translate[\"Z\"] = \"W\"\n",
    "\n",
    "translation = \"\"\n",
    "for letter in str(cipher_text):\n",
    "    translation = translation + translate[letter]\n",
    "print translation"
   ]
  }
 ],
 "metadata": {
  "kernelspec": {
   "display_name": "SageMath 8.1",
   "language": "",
   "name": "sagemath"
  },
  "language_info": {
   "codemirror_mode": {
    "name": "ipython",
    "version": 2
   },
   "file_extension": ".py",
   "mimetype": "text/x-python",
   "name": "python",
   "nbconvert_exporter": "python",
   "pygments_lexer": "ipython2",
   "version": "2.7.14"
  }
 },
 "nbformat": 4,
 "nbformat_minor": 2
}
