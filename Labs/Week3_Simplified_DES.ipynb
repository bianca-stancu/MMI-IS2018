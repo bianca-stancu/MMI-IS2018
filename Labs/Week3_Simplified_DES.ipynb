{
 "cells": [
  {
   "cell_type": "markdown",
   "metadata": {
    "deletable": true,
    "editable": true
   },
   "source": [
    "# Implementing Simplified DES (SDES) with SAGE"
   ]
  },
  {
   "cell_type": "code",
   "execution_count": 1,
   "metadata": {
    "collapsed": true,
    "deletable": true,
    "editable": true
   },
   "outputs": [],
   "source": [
    "# Note: make sure to run this cell first\n",
    "import ipywidgets as widgets"
   ]
  },
  {
   "cell_type": "markdown",
   "metadata": {
    "deletable": true,
    "editable": true
   },
   "source": [
    "## Define Expansions and Permutations"
   ]
  },
  {
   "cell_type": "code",
   "execution_count": 12,
   "metadata": {
    "collapsed": true,
    "deletable": true,
    "editable": true
   },
   "outputs": [],
   "source": [
    "# The Expansions/Permutations are stored as lists of bit positions\n",
    "\n",
    "P10_data = [3, 5, 2, 7, 4, 10, 1, 9, 8, 6];\n",
    "P8_data = [6, 3, 7, 4, 8, 5, 10, 9];\n",
    "LS1_data = [2, 3, 4, 5, 1];\n",
    "LS2_data = [3, 4, 5, 1, 2];\n",
    "IP_data = [2, 6, 3, 1, 4, 8, 5, 7];\n",
    "IPinv_data = [4, 1, 3, 5, 7, 2, 8, 6];\n",
    "EP_data = [4, 1, 2, 3, 2, 3, 4, 1];\n",
    "P4_data = [2, 4, 3, 1];\n",
    "SW_data = [5, 6, 7, 8, 1, 2, 3, 4];"
   ]
  },
  {
   "cell_type": "markdown",
   "metadata": {
    "deletable": true,
    "editable": true
   },
   "source": [
    "## Define S-Boxes"
   ]
  },
  {
   "cell_type": "code",
   "execution_count": 3,
   "metadata": {
    "collapsed": true,
    "deletable": true,
    "editable": true
   },
   "outputs": [],
   "source": [
    "# SDES lookup tables\n",
    "\n",
    "S0_data = [[1, 0, 3, 2],\n",
    "           [3, 2, 1, 0],\n",
    "           [0, 2, 1, 3],\n",
    "           [3, 1, 3, 2]];\n",
    "\n",
    "S1_data = [[0, 1, 2, 3],\n",
    "           [2, 0, 1, 3],\n",
    "           [3, 0, 1, 0],\n",
    "           [2, 1, 0, 3]];"
   ]
  },
  {
   "cell_type": "markdown",
   "metadata": {
    "deletable": true,
    "editable": true
   },
   "source": [
    "Permutation Helper Method"
   ]
  },
  {
   "cell_type": "code",
   "execution_count": 4,
   "metadata": {
    "collapsed": true,
    "deletable": true,
    "editable": true
   },
   "outputs": [],
   "source": [
    "def ApplyPermutation(X, permutation):\n",
    "    return [X[i-1] for i in permutation]"
   ]
  },
  {
   "cell_type": "markdown",
   "metadata": {
    "deletable": true,
    "editable": true
   },
   "source": [
    "## Substitution Helper Method"
   ]
  },
  {
   "cell_type": "code",
   "execution_count": 6,
   "metadata": {
    "collapsed": false,
    "deletable": true,
    "editable": true
   },
   "outputs": [],
   "source": [
    "def ApplySBox(X, SBox):\n",
    "    #A row\n",
    "    r = 2*X[0] + X[3];\n",
    "    #A column\n",
    "    c = 2*X[1] + X[2];\n",
    "    #Lookup => we get a 2 bit output.\n",
    "    o = SBox[r][c]; \n",
    "    return [o & 2, o & 1];"
   ]
  },
  {
   "cell_type": "markdown",
   "metadata": {
    "deletable": true,
    "editable": true
   },
   "source": [
    "## Concatenate Two Blocks"
   ]
  },
  {
   "cell_type": "code",
   "execution_count": 7,
   "metadata": {
    "collapsed": true,
    "deletable": true,
    "editable": true
   },
   "outputs": [],
   "source": [
    "def concatenate(left, right):\n",
    "    ret = [left[j] for j in xrange(len(left))];\n",
    "    ret.extend(right);\n",
    "    return ret;"
   ]
  },
  {
   "cell_type": "markdown",
   "metadata": {
    "deletable": true,
    "editable": true
   },
   "source": [
    "## Return Left/Right Half Bits of a Block"
   ]
  },
  {
   "cell_type": "code",
   "execution_count": 8,
   "metadata": {
    "collapsed": false,
    "deletable": true,
    "editable": true
   },
   "outputs": [],
   "source": [
    "def LeftHalfBits(block):\n",
    "    l = len(block);\n",
    "    return [block[j] for j in xrange(l/2)];\n",
    "\n",
    "def RightHalfBits(block):\n",
    "    l = len(block);\n",
    "    return [block[j] for j in xrange(l/2, l)];"
   ]
  },
  {
   "cell_type": "markdown",
   "metadata": {
    "deletable": true,
    "editable": true
   },
   "source": [
    "## Compute XOR of Two Blocks"
   ]
  },
  {
   "cell_type": "code",
   "execution_count": 9,
   "metadata": {
    "collapsed": true,
    "deletable": true,
    "editable": true
   },
   "outputs": [],
   "source": [
    "def XorBlock(block1, block2):\n",
    "    l = len(block1);\n",
    "    if (l != len(block2)):\n",
    "        raise ValueError, \"XorBlock arguments must be same length\"\n",
    "        #A way to implement XOR:\n",
    "    return [(int(block1[j])+int(block2[j])) % 2 for j in xrange(l)];"
   ]
  },
  {
   "cell_type": "markdown",
   "metadata": {
    "deletable": true,
    "editable": true
   },
   "source": [
    "## Key Generation"
   ]
  },
  {
   "cell_type": "code",
   "execution_count": 10,
   "metadata": {
    "collapsed": true,
    "deletable": true,
    "editable": true
   },
   "outputs": [],
   "source": [
    "def SDESKeySchedule(K):\n",
    "    r\"\"\"\n",
    "    Expands an SDES Key (bit list) into the two round keys.\n",
    "    \"\"\"\n",
    "    step1 = P10(K)\n",
    "    step2 = LS1(LeftHalfBits(step1))\n",
    "    step3 = LS1(RightHalfBits(step1))\n",
    "    step4 = concatenate(step2,step3)\n",
    "    k1 = P8(step4)\n",
    "    step5 = LS2(step2)\n",
    "    step6 = LS2(step3)\n",
    "    step7 = concatenate(step5,step6)\n",
    "    k2 = P8(step7)\n",
    "    return k1,k2"
   ]
  },
  {
   "cell_type": "markdown",
   "metadata": {
    "deletable": true,
    "editable": true
   },
   "source": [
    "## Compute F_K function"
   ]
  },
  {
   "cell_type": "code",
   "execution_count": 13,
   "metadata": {
    "collapsed": true,
    "deletable": true,
    "editable": true
   },
   "outputs": [],
   "source": [
    "def f_K(block, K):\n",
    "    r\"\"\"\n",
    "    Performs the f_K function supplied block and K.\n",
    "    \"\"\"\n",
    "    step1 = EP(RightHalfBits(block))\n",
    "    step2 = XorBlock(step1,K)\n",
    "    step3 = S0(LeftHalfBits(step2))\n",
    "    step4 = S1(RightHalfBits(step2))\n",
    "    step5 = concatenate(step3,step4)\n",
    "    step6 = P4(step5)\n",
    "    result = XorBlock(LeftHalfBits(block),step6)\n",
    "    return result\n",
    "    "
   ]
  },
  {
   "cell_type": "markdown",
   "metadata": {
    "deletable": true,
    "editable": true
   },
   "source": [
    "## Compute Permutations"
   ]
  },
  {
   "cell_type": "code",
   "execution_count": 14,
   "metadata": {
    "collapsed": true,
    "deletable": true,
    "editable": true
   },
   "outputs": [],
   "source": [
    "def P10(X):\n",
    "    return ApplyPermutation(X, P10_data);\n",
    "\n",
    "def P8(X):\n",
    "    return ApplyPermutation(X, P8_data);\n",
    "\n",
    "def IP(X):\n",
    "    return ApplyPermutation(X, IP_data);\n",
    "\n",
    "def IPinv(X):\n",
    "    return ApplyPermutation(X, IPinv_data);\n",
    "\n",
    "def EP(X):\n",
    "    return ApplyPermutation(X, EP_data);\n",
    "\n",
    "def P4(X):\n",
    "    return ApplyPermutation(X, P4_data);\n",
    "\n",
    "def SW(X): \n",
    "    return ApplyPermutation(X, SW_data);\n",
    "\n",
    "def LS1(X):\n",
    "    return ApplyPermutation(X, LS1_data);\n",
    "\n",
    "def LS2(X):\n",
    "    return ApplyPermutation(X, LS2_data);"
   ]
  },
  {
   "cell_type": "markdown",
   "metadata": {
    "deletable": true,
    "editable": true
   },
   "source": [
    "## Compute S-Boxes"
   ]
  },
  {
   "cell_type": "code",
   "execution_count": 16,
   "metadata": {
    "collapsed": true,
    "deletable": true,
    "editable": true
   },
   "outputs": [],
   "source": [
    "def S0(X):\n",
    "    return ApplySBox(X, S0_data);\n",
    "\n",
    "def S1(X):\n",
    "    return ApplySBox(X, S1_data);"
   ]
  },
  {
   "cell_type": "markdown",
   "metadata": {
    "deletable": true,
    "editable": true
   },
   "source": [
    "## Encrypt / Decrypt"
   ]
  },
  {
   "cell_type": "code",
   "execution_count": 18,
   "metadata": {
    "collapsed": true,
    "deletable": true,
    "editable": true
   },
   "outputs": [],
   "source": [
    "def SDESEncrypt(plaintext_block, K):\n",
    "    k1 = SDESKeySchedule(K)[0]\n",
    "    k2 = SDESKeySchedule(K)[1]\n",
    "    step1 = IP(plaintext_block)\n",
    "    step2 = f_K(step1, k1)\n",
    "    step3 = concatenate(RightHalfBits(step1),step2)\n",
    "    step4 = SW(step3)\n",
    "    step5 = f_K(step4, k2)\n",
    "    step6 = concatenate(step5,RightHalfBits(step4))\n",
    "    step7 = IPinv(step6)\n",
    "    return step7\n",
    "    \n",
    "def SDESDecrypt(ciphertext, K):\n",
    "    return SDESEncrypt(ciphertext,K)"
   ]
  },
  {
   "cell_type": "code",
   "execution_count": 19,
   "metadata": {
    "collapsed": false,
    "deletable": true,
    "editable": true,
    "scrolled": false
   },
   "outputs": [
    {
     "name": "stdout",
     "output_type": "stream",
     "text": [
      "[0, 0, 0, '1', '0', 1, '0', '1']\n"
     ]
    }
   ],
   "source": [
    "#Encrypting a series of 8 bits\n",
    "print SDESEncrypt(\"01010101\",\"1010000010\")"
   ]
  },
  {
   "cell_type": "code",
   "execution_count": 20,
   "metadata": {
    "collapsed": false,
    "deletable": true,
    "editable": true
   },
   "outputs": [
    {
     "name": "stdout",
     "output_type": "stream",
     "text": [
      "[0, 1, 0, '1', '0', 1, '0', '1']\n"
     ]
    }
   ],
   "source": [
    "#Decrypting a series of 8 bits\n",
    "print SDESDecrypt(\"00010101\",\"1010000010\")"
   ]
  }
 ],
 "metadata": {
  "kernelspec": {
   "display_name": "SageMath 8.1",
   "language": "",
   "name": "sagemath"
  },
  "language_info": {
   "codemirror_mode": {
    "name": "ipython",
    "version": 2
   },
   "file_extension": ".py",
   "mimetype": "text/x-python",
   "name": "python",
   "nbconvert_exporter": "python",
   "pygments_lexer": "ipython2",
   "version": "2.7.14"
  }
 },
 "nbformat": 4,
 "nbformat_minor": 0
}
