{
 "cells": [
  {
   "cell_type": "markdown",
   "metadata": {
    "deletable": true,
    "editable": true
   },
   "source": [
    "# HMAC SHA256"
   ]
  },
  {
   "cell_type": "code",
   "execution_count": 7,
   "metadata": {
    "collapsed": false,
    "deletable": true,
    "editable": true
   },
   "outputs": [],
   "source": [
    "from Crypto.Hash import MD5, SHA, SHA256\n",
    "import hashlib, hmac"
   ]
  },
  {
   "cell_type": "markdown",
   "metadata": {
    "deletable": true,
    "editable": true
   },
   "source": [
    "## Helper Functions"
   ]
  },
  {
   "cell_type": "code",
   "execution_count": 8,
   "metadata": {
    "collapsed": true,
    "deletable": true,
    "editable": true
   },
   "outputs": [],
   "source": [
    "def intToList(number):\n",
    "    \"\"\"Converts an integer (int or Integer) of \n",
    "       any length into a list of 8-bit integers (int)\"\"\"\n",
    "    L1 = log(number,256)\n",
    "    L2 = ceil(L1)\n",
    "    if L1 == L2:\n",
    "        L2 += 1\n",
    "    return [(number&(0xff<<8*i))>>8*i for i in reversed(range(L2))] \n",
    "\n",
    "def intToListOfLenght(number,length):\n",
    "    \"\"\"Convert a number into a byte list\n",
    "       with specified length\"\"\"\n",
    "    return [(number >> i) & 0xff\n",
    "            for i in reversed(range(0,length*8,8))]\n",
    " \n",
    "def listToInt(lst):\n",
    "    \"\"\"Convert a byte list into a number\"\"\"\n",
    "    return reduce(lambda x,y:(x<<8)+y,lst)\n",
    "\n",
    "def strToList(s):\n",
    "    \"\"\"Converts string of any lenght into a list \n",
    "       of its decimal ASCII representation \"\"\"\n",
    "    return list(map(ord,s))\n",
    "\n",
    "def listToString(lst):\n",
    "    \"\"\"Convert a byte list into a string \"\"\"\n",
    "    return \"\".join(map(chr,lst))\n",
    "\n",
    "def listToHexString(lst):\n",
    "    \"\"\"Convert a byte list into a hex string \"\"\"\n",
    "    return \"0x\" + \"\".join(map(lambda x:format(x,\"x\"),lst))\n",
    "\n",
    "def list_xor(x,y):\n",
    "    \"\"\"Computes the pairwise XOR of two integer lists\"\"\"\n",
    "    return list(i^^j for i,j in zip(x,y))"
   ]
  },
  {
   "cell_type": "markdown",
   "metadata": {
    "deletable": true,
    "editable": true
   },
   "source": [
    "## SHA256 Wrapper"
   ]
  },
  {
   "cell_type": "code",
   "execution_count": 9,
   "metadata": {
    "collapsed": true,
    "deletable": true,
    "editable": true
   },
   "outputs": [],
   "source": [
    "def sha256(m):\n",
    "    \"\"\"Return the SHA-256 digest of input. \n",
    "       Simply a wrapper around the hashmap function\n",
    "       in order to support not only strings but also \n",
    "       integers (int, Integer), and lists of integers\"\"\"\n",
    "    if type(m) is str:\n",
    "        return int(SHA256.new(m).hexdigest(),16)\n",
    "    if type(m) is int or type(m) is sage.rings.integer.Integer:\n",
    "        return int(SHA256.new(listToString(intToList(m))).hexdigest(),16)\n",
    "    if not(type(m) is list):\n",
    "        raise TypeError\n",
    "    \"\"\" return value is (large) integer \"\"\"\n",
    "    return int(SHA256.new(listToString(m)).hexdigest(),16)"
   ]
  },
  {
   "cell_type": "markdown",
   "metadata": {
    "deletable": true,
    "editable": true
   },
   "source": [
    "## HMAC (using SHA256) "
   ]
  },
  {
   "cell_type": "code",
   "execution_count": 11,
   "metadata": {
    "collapsed": false,
    "deletable": true,
    "editable": true
   },
   "outputs": [],
   "source": [
    "def hmac_sha256(k,m):\n",
    "    opad = list((0x5c) for _ in range(64))\n",
    "    ipad = list((0x36) for _ in range(64))\n",
    "    \n",
    "    if type(k) is int or type(k) is Integer:\n",
    "        key_l = intToList(k)\n",
    "        if(len(key_l)>64):\n",
    "            key_l = intToList(sha256(key_l))\n",
    "            zeros = intToListOfLenght(0,32)\n",
    "            key_l = key_l+zeros\n",
    "        else:\n",
    "            zeros = intToListOfLenght(0,64-len(key_l))\n",
    "            key_l = key_l+zeros\n",
    "    else:\n",
    "        if type(k) is str:\n",
    "            key_l = strToList(k)\n",
    "            if(len(key_l)>64):\n",
    "                key_l = intToList(sha256(key_l))\n",
    "                zeros = intToListOfLenght(0,32)\n",
    "                key_l = key_l+zeros\n",
    "            else:\n",
    "                zeros = intToListOfLenght(0,64-len(k))\n",
    "                key_l = key_l+zeros           \n",
    "    if type(m) is int or type(m) is Integer:\n",
    "        m_list = intToList(m)\n",
    "    else:\n",
    "        print(m)\n",
    "        m_list = strToList(m)\n",
    "    \n",
    "    r1 = list_xor(key_l,opad)\n",
    "    r2 = list_xor(key_l,ipad)\n",
    "    \n",
    "    m1 = r2+m_list\n",
    "    m2 = intToList(sha256(m1))\n",
    "    m3 = r1 + m2\n",
    "    m4 = sha256(m3)\n",
    "\n",
    "    return int(m4)"
   ]
  },
  {
   "cell_type": "markdown",
   "metadata": {
    "deletable": true,
    "editable": true
   },
   "source": [
    "## Testing "
   ]
  },
  {
   "cell_type": "markdown",
   "metadata": {
    "deletable": true,
    "editable": true
   },
   "source": [
    "First a quick check that our hmac_sha256 yields the same as the built-in hmac function."
   ]
  },
  {
   "cell_type": "code",
   "execution_count": 12,
   "metadata": {
    "collapsed": false,
    "deletable": true,
    "editable": true
   },
   "outputs": [
    {
     "name": "stdout",
     "output_type": "stream",
     "text": [
      "The quick brown fox jumps over the lazy dog\n"
     ]
    },
    {
     "data": {
      "text/plain": [
       "'0xf7bc83f430538424b13298e6aa6fb143ef4d59a14946175997479dbc2d1a3cd8L'"
      ]
     },
     "execution_count": 12,
     "metadata": {},
     "output_type": "execute_result"
    }
   ],
   "source": [
    "hex(hmac_sha256(\"key\", \"The quick brown fox jumps over the lazy dog\"))"
   ]
  },
  {
   "cell_type": "code",
   "execution_count": 13,
   "metadata": {
    "collapsed": false,
    "deletable": true,
    "editable": true
   },
   "outputs": [
    {
     "data": {
      "text/plain": [
       "'f7bc83f430538424b13298e6aa6fb143ef4d59a14946175997479dbc2d1a3cd8'"
      ]
     },
     "execution_count": 13,
     "metadata": {},
     "output_type": "execute_result"
    }
   ],
   "source": [
    "hmac.new(\"key\", \"The quick brown fox jumps over the lazy dog\", hashlib.sha256).hexdigest()"
   ]
  },
  {
   "cell_type": "markdown",
   "metadata": {
    "deletable": true,
    "editable": true
   },
   "source": [
    "### Test Suite"
   ]
  },
  {
   "cell_type": "markdown",
   "metadata": {
    "deletable": true,
    "editable": true
   },
   "source": [
    "Here's a complete set of test cases..."
   ]
  },
  {
   "cell_type": "code",
   "execution_count": 15,
   "metadata": {
    "collapsed": false,
    "deletable": true,
    "editable": true
   },
   "outputs": [
    {
     "name": "stdout",
     "output_type": "stream",
     "text": [
      "\n",
      "The quick brown fox jumps over the lazy dog\n",
      "Ok!\n"
     ]
    }
   ],
   "source": [
    "    # Wikipedia's test case #1\n",
    "    assert hmac_sha256(\"\",\"\") == 0xb613679a0814d9ec772f95d778c35fc5ff1697c493715653c6c712144292c5ad\n",
    "     \n",
    "    # Wikipedia's test case #2\n",
    "    assert hmac_sha256(\"key\", \"The quick brown fox jumps over the lazy dog\") == \\\n",
    "           0xf7bc83f430538424b13298e6aa6fb143ef4d59a14946175997479dbc2d1a3cd8\n",
    "     \n",
    "    # RFC 4231 - Identifiers and Test Vectors for HMAC-SHA-224, HMAC-SHA-256,\n",
    "    # HMAC-SHA-384, and HMAC-SHA-512\n",
    "     \n",
    "    # RFC 4231 Test case 1\n",
    "    Key1 = 0x0b0b0b0b0b0b0b0b0b0b0b0b0b0b0b0b0b0b0b0b\n",
    "    Data1 = 0x4869205468657265\n",
    "    HMAC1 = 0xb0344c61d8db38535ca8afceaf0bf12b881dc200c9833da726e9376c2e32cff7  \n",
    "    assert hmac_sha256(Key1,Data1) == HMAC1      \n",
    " \n",
    "    # RFC 4231 Test case 2\n",
    "    Key2 = 0x4a656665\n",
    "    Data2 = 0x7768617420646f2079612077616e7420666f72206e6f7468696e673f\n",
    "    HMAC2 = 0x5bdcc146bf60754e6a042426089575c75a003f089d2739839dec58b964ec3843\n",
    "    assert hmac_sha256(Key2,Data2) == HMAC2\n",
    "     \n",
    "    # RFC 4231 Test case 3    \n",
    "    Key3 = 0xaaaaaaaaaaaaaaaaaaaaaaaaaaaaaaaaaaaaaaaa\n",
    "    Data3 = 0xdddddddddddddddddddddddddddddddddddddddddddddddddddddddddddddddddddddddddddddddddddddddddddddddddddd\n",
    "    HMAC3 = 0x773ea91e36800e46854db8ebd09181a72959098b3ef8c122d9635514ced565fe\n",
    "    assert hmac_sha256(Key3,Data3) == HMAC3\n",
    " \n",
    "    # RFC 4231 Test case 4\n",
    "    Key4 = 0x0102030405060708090a0b0c0d0e0f10111213141516171819\n",
    "    Data4 = 0xcdcdcdcdcdcdcdcdcdcdcdcdcdcdcdcdcdcdcdcdcdcdcdcdcdcdcdcdcdcdcdcdcdcdcdcdcdcdcdcdcdcdcdcdcdcdcdcdcdcd\n",
    "    HMAC4 = 0x82558a389a443c0ea4cc819899f2083a85f0faa3e578f8077a2e3ff46729665b\n",
    "    assert hmac_sha256(Key4,Data4) == HMAC4\n",
    " \n",
    "    # RFC 4231 Test case 5\n",
    "    Key5 = 0x0c0c0c0c0c0c0c0c0c0c0c0c0c0c0c0c0c0c0c0c\n",
    "    Data5 = 0x546573742057697468205472756e636174696f6e\n",
    "    HMAC5 = 0xa3b6167473100ee06e0c796c2955552b\n",
    "    assert hmac_sha256(Key5,Data5)>>128 == HMAC5\n",
    " \n",
    "    # RFC 4231 Test case 6\n",
    "    Key6 = 0xaaaaaaaaaaaaaaaaaaaaaaaaaaaaaaaaaaaaaaaaaaaaaaaaaaaaaaaaaaaaaaaaaaaaaaaaaaaaaaaaaaaaaaaaaaaaaaaaaaaaaaaaaaaaaaaaaaaaaaaaaaaaaaaaaaaaaaaaaaaaaaaaaaaaaaaaaaaaaaaaaaaaaaaaaaaaaaaaaaaaaaaaaaaaaaaaaaaaaaaaaaaaaaaaaaaaaaaaaaaaaaaaaaaaaaaaaaaaaaaaaaaaaaaaaaaaaaaaaaaaaa\n",
    "    Data6 = 0x54657374205573696e67204c6172676572205468616e20426c6f636b2d53697a65204b6579202d2048617368204b6579204669727374\n",
    "    HMAC6 = 0x60e431591ee0b67f0d8a26aacbf5b77f8e0bc6213728c5140546040f0ee37f54\n",
    "    assert hmac_sha256(Key6,Data6) == HMAC6\n",
    " \n",
    "    # RFC 4231 Test case 7    \n",
    "    Key7 = 0xaaaaaaaaaaaaaaaaaaaaaaaaaaaaaaaaaaaaaaaaaaaaaaaaaaaaaaaaaaaaaaaaaaaaaaaaaaaaaaaaaaaaaaaaaaaaaaaaaaaaaaaaaaaaaaaaaaaaaaaaaaaaaaaaaaaaaaaaaaaaaaaaaaaaaaaaaaaaaaaaaaaaaaaaaaaaaaaaaaaaaaaaaaaaaaaaaaaaaaaaaaaaaaaaaaaaaaaaaaaaaaaaaaaaaaaaaaaaaaaaaaaaaaaaaaaaaaaaaaaaaa\n",
    "    Data7 = 0x5468697320697320612074657374207573696e672061206c6172676572207468616e20626c6f636b2d73697a65206b657920616e642061206c6172676572207468616e20626c6f636b2d73697a6520646174612e20546865206b6579206e6565647320746f20626520686173686564206265666f7265206265696e6720757365642062792074686520484d414320616c676f726974686d2e\n",
    "    HMAC7 = 0x9b09ffa71b942fcb27635fbcd5b0e944bfdc63644f0713938a7f51535c3a35e2\n",
    "    assert hmac_sha256(Key7,Data7) == HMAC7\n",
    " \n",
    "    print(\"Ok!\")"
   ]
  }
 ],
 "metadata": {
  "kernelspec": {
   "display_name": "SageMath 8.1",
   "language": "",
   "name": "sagemath"
  },
  "language_info": {
   "codemirror_mode": {
    "name": "ipython",
    "version": 2
   },
   "file_extension": ".py",
   "mimetype": "text/x-python",
   "name": "python",
   "nbconvert_exporter": "python",
   "pygments_lexer": "ipython2",
   "version": "2.7.14"
  }
 },
 "nbformat": 4,
 "nbformat_minor": 2
}
