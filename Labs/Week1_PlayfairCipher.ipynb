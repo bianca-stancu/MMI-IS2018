{
 "cells": [
  {
   "cell_type": "markdown",
   "metadata": {},
   "source": [
    "# Playfair cipher"
   ]
  },
  {
   "cell_type": "code",
   "execution_count": 123,
   "metadata": {
    "collapsed": true
   },
   "outputs": [],
   "source": [
    "import ipywidgets as widgets\n",
    "import re"
   ]
  },
  {
   "cell_type": "code",
   "execution_count": 15,
   "metadata": {
    "collapsed": true
   },
   "outputs": [],
   "source": [
    "#Setting the keyword\n",
    "keyword = \"information security\""
   ]
  },
  {
   "cell_type": "code",
   "execution_count": 56,
   "metadata": {
    "collapsed": true
   },
   "outputs": [],
   "source": [
    "#Setting the plaintext to be encrypted\n",
    "plaintext = \"We must surround the enemy as soon as possible. Engage now.\""
   ]
  },
  {
   "cell_type": "code",
   "execution_count": 227,
   "metadata": {
    "collapsed": false
   },
   "outputs": [
    {
     "name": "stdout",
     "output_type": "stream",
     "text": [
      "[['I', 'N', 'F', 'O', 'R'], ['M', 'A', 'T', 'S', 'E'], ['C', 'U', 'Y', 'B', 'D'], ['G', 'H', 'K', 'L', 'P'], ['Q', 'V', 'W', 'X', 'Z']]\n"
     ]
    }
   ],
   "source": [
    "#Generating the key matrix\n",
    "key_matrix = get_matrix(keyword)\n",
    "print key_matrix"
   ]
  },
  {
   "cell_type": "code",
   "execution_count": 246,
   "metadata": {
    "collapsed": false
   },
   "outputs": [
    {
     "name": "stdout",
     "output_type": "stream",
     "text": [
      "ZTACESABOZIRHAYEPAZSRATCTEBSRFTELRBOMOLXMMIHMHARFX\n"
     ]
    }
   ],
   "source": [
    "#Encrypting the text\n",
    "cipher = encrypt(plaintext,key_matrix)\n",
    "print cipher"
   ]
  },
  {
   "cell_type": "code",
   "execution_count": 247,
   "metadata": {
    "collapsed": false
   },
   "outputs": [
    {
     "name": "stdout",
     "output_type": "stream",
     "text": [
      "WEMUSTSURXROUNDTHEXENEMYASSOONASPOSXSIBLEENGAGENOW\n"
     ]
    }
   ],
   "source": [
    "#Decrypting the cipher\n",
    "print decrypt(cipher,\"information security\")"
   ]
  },
  {
   "cell_type": "markdown",
   "metadata": {},
   "source": [
    "## Helper functions"
   ]
  },
  {
   "cell_type": "code",
   "execution_count": 245,
   "metadata": {
    "collapsed": true
   },
   "outputs": [],
   "source": [
    "#Creating the key matrix\n",
    "def get_matrix(keyword):\n",
    "    keyword = keyword.upper()\n",
    "    matrix = \"\"\n",
    "    #Considering I and J the same letter.\n",
    "    keyword = keyword.replace(\"J\",\"I\")\n",
    "    keyword = keyword.replace(\" \",\"\")\n",
    "    for l in keyword:\n",
    "        if matrix.find(l) == -1:\n",
    "            matrix += l\n",
    "    alphabet = \"ABCDEFGHIKLMNOPQRSTUVWXYZ\"\n",
    "    for l in alphabet:\n",
    "        if matrix.find(l) == -1:\n",
    "            matrix += l\n",
    "    key_matrix = [[0 for j in range(5)] for i in range(5)]\n",
    "    for l in range(len(matrix)):\n",
    "        key_matrix[l//5][l%5] = matrix[l] \n",
    "    return key_matrix\n",
    "\n",
    "#Define function to insert letter at given location\n",
    "def insert_X(text,position):\n",
    "    new_text = \"\"\n",
    "    for i in range(position):\n",
    "        new_text += text[i]\n",
    "    new_text+=\"X\"\n",
    "    for i in range(position, len(text)):\n",
    "        new_text += text[i]\n",
    "    return new_text\n",
    "\n",
    "#Preparing the plaintext to be encrypted\n",
    "def prepare_text(plaintext):\n",
    "    plaintext = plaintext.upper()\n",
    "    plaintext = plaintext.replace(\"J\",\"I\")\n",
    "    regex = re.compile('[^A-Z]')\n",
    "    plaintext = regex.sub('', plaintext)\n",
    "    text = plaintext\n",
    "    x = 0\n",
    "    for i in range(0, len(plaintext),2):\n",
    "        if i+1 == len(plaintext):\n",
    "            text = insert_X(text,i+x+1)\n",
    "        elif plaintext[i] == plaintext[i+1]:\n",
    "            text = insert_X(text,i+x+1)\n",
    "            x+=1\n",
    "    return text\n",
    "\n",
    "#Encrypting the text\n",
    "def encrypt (plaintext, key_matrix):\n",
    "    plaintext = prepare_text(plaintext)\n",
    "    cipher =\"\"\n",
    "    for i in range(0,len(plaintext)-1,2):\n",
    "        digram1 = plaintext[i]\n",
    "        digram2 = plaintext[i+1]\n",
    "        col1 = -1\n",
    "        col2 = -1\n",
    "        row1 = -1\n",
    "        row2 = -1\n",
    "        for i in range(5):\n",
    "            try:\n",
    "                col1 = key_matrix[i].index(digram1)\n",
    "                row1 = i\n",
    "            except ValueError: \n",
    "                pass\n",
    "        for i in range(5):\n",
    "            try:\n",
    "                col2 = key_matrix[i].index(digram2)\n",
    "                row2 = i\n",
    "            except ValueError: \n",
    "                pass\n",
    "        #Shifting to the right in case they are on the same row\n",
    "        e_d1=\"\"\n",
    "        e_d2=\"\"\n",
    "        if row1 == row2:\n",
    "            e_d1 = key_matrix[row1][(col1+1)%5]\n",
    "            e_d2 = key_matrix[row1][(col2+1)%5]\n",
    "        #Shifting down in case they are on the same column\n",
    "        elif col1 == col2:\n",
    "            e_d1 = key_matrix[(row1+1)%5][col1]\n",
    "            e_d2 = key_matrix[(row2+1)%5][col1]\n",
    "        #Finding encoding in regular situation\n",
    "        else:\n",
    "            e_d1 = key_matrix[row1][col2]\n",
    "            e_d2 = key_matrix[row2][col1]\n",
    "        cipher += e_d1\n",
    "        cipher += e_d2\n",
    "    return cipher\n",
    "\n",
    "#Decrypting the cipher\n",
    "def decrypt (cipher, keyword):\n",
    "    key_matrix = get_matrix(keyword)\n",
    "    plaintext =\"\"\n",
    "    for i in range(0,len(cipher)-1,2):\n",
    "        digram1 = cipher[i]\n",
    "        digram2 = cipher[i+1]\n",
    "        col1 = -1\n",
    "        col2 = -1\n",
    "        row1 = -1\n",
    "        row2 = -1\n",
    "        for i in range(5):\n",
    "            try:\n",
    "                col1 = key_matrix[i].index(digram1)\n",
    "                row1 = i\n",
    "            except ValueError: \n",
    "                pass\n",
    "        for i in range(5):\n",
    "            try:\n",
    "                col2 = key_matrix[i].index(digram2)\n",
    "                row2 = i\n",
    "            except ValueError: \n",
    "                pass\n",
    "        #Shifting to the left in case they are on the same row\n",
    "        e_d1=\"\"\n",
    "        e_d2=\"\"\n",
    "        if row1 == row2:\n",
    "            e_d1 = key_matrix[row1][(col1-1)%5]\n",
    "            e_d2 = key_matrix[row1][(col2-1)%5]\n",
    "        #Shifting up in case they are on the same column\n",
    "        elif col1 == col2:\n",
    "            e_d1 = key_matrix[(row1-1)%5][col1]\n",
    "            e_d2 = key_matrix[(row2-1)%5][col1]\n",
    "        #Finding encoding in regular situation\n",
    "        else:\n",
    "            e_d1 = key_matrix[row1][col2]\n",
    "            e_d2 = key_matrix[row2][col1]\n",
    "        plaintext += e_d1\n",
    "        plaintext += e_d2\n",
    "    return plaintext"
   ]
  }
 ],
 "metadata": {
  "kernelspec": {
   "display_name": "SageMath 8.1",
   "language": "",
   "name": "sagemath"
  },
  "language_info": {
   "codemirror_mode": {
    "name": "ipython",
    "version": 2
   },
   "file_extension": ".py",
   "mimetype": "text/x-python",
   "name": "python",
   "nbconvert_exporter": "python",
   "pygments_lexer": "ipython2",
   "version": "2.7.14"
  }
 },
 "nbformat": 4,
 "nbformat_minor": 2
}
