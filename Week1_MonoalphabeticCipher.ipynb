{
 "cells": [
  {
   "cell_type": "markdown",
   "metadata": {},
   "source": [
    "# Monoalphabetic Cipher"
   ]
  },
  {
   "cell_type": "code",
   "execution_count": 1,
   "metadata": {
    "collapsed": true
   },
   "outputs": [],
   "source": [
    "import ipywidgets as widgets"
   ]
  },
  {
   "cell_type": "code",
   "execution_count": 2,
   "metadata": {
    "collapsed": true
   },
   "outputs": [],
   "source": [
    "#Initialize alphabet\n",
    "AS = AlphabeticStrings()"
   ]
  },
  {
   "cell_type": "code",
   "execution_count": 4,
   "metadata": {
    "collapsed": true
   },
   "outputs": [],
   "source": [
    "#Setup crypto system\n",
    "MA = SubstitutionCryptosystem(AS)"
   ]
  },
  {
   "cell_type": "code",
   "execution_count": 6,
   "metadata": {
    "collapsed": false
   },
   "outputs": [
    {
     "name": "stdout",
     "output_type": "stream",
     "text": [
      "Key: ASVETDUYBIORQPHGXLMFCKWJZN\n"
     ]
    }
   ],
   "source": [
    "#Generate random permutation for the crypto system\n",
    "key = MA.random_key()\n",
    "print (\"Key: \" + str(key))"
   ]
  },
  {
   "cell_type": "code",
   "execution_count": 8,
   "metadata": {
    "collapsed": false
   },
   "outputs": [
    {
     "name": "stdout",
     "output_type": "stream",
     "text": [
      "Plain text: ITSTHEKFCSUPERSECRETRECIPE\n"
     ]
    }
   ],
   "source": [
    "#Encode\n",
    "plaintext = MA.encoding(\"It's the KFC super secret recipe!\")\n",
    "print (\"Plain text: \" + str(plaintext))"
   ]
  },
  {
   "cell_type": "code",
   "execution_count": 11,
   "metadata": {
    "collapsed": false
   },
   "outputs": [
    {
     "name": "stdout",
     "output_type": "stream",
     "text": [
      "Cipher text: BFMFYTODVMCGTLMTVLTFLTVBGT\n"
     ]
    }
   ],
   "source": [
    "#Encrypt\n",
    "ciphertext = MA.enciphering(key,plaintext)\n",
    "print (\"Cipher text: \" + str(ciphertext))"
   ]
  },
  {
   "cell_type": "code",
   "execution_count": 12,
   "metadata": {
    "collapsed": false
   },
   "outputs": [
    {
     "name": "stdout",
     "output_type": "stream",
     "text": [
      "ITSTHEKFCSUPERSECRETRECIPE\n"
     ]
    },
    {
     "data": {
      "text/plain": [
       "'Decryption successful'"
      ]
     },
     "execution_count": 12,
     "metadata": {},
     "output_type": "execute_result"
    }
   ],
   "source": [
    "#Decrypt\n",
    "decrypt = \"\"\n",
    "alphabet = AS.gens()\n",
    "for coded_letter in ciphertext:\n",
    "    index = str(key).index(str(coded_letter)) \n",
    "    decrypt = decrypt + str(alphabet[index%26])\n",
    "print (str(decrypt))\n",
    "\"Decryption successful\" if str(decrypt) == str(plaintext) else \"Decryption not successful\" "
   ]
  },
  {
   "cell_type": "code",
   "execution_count": 16,
   "metadata": {
    "collapsed": false
   },
   "outputs": [
    {
     "name": "stdout",
     "output_type": "stream",
     "text": [
      "ENGLISH FREQUENCIES (LEWAND TABLE): \n",
      " [('E', 0.127020000000000), ('T', 0.0905600000000000), ('A', 0.0816700000000000), ('O', 0.0750700000000000), ('I', 0.0696600000000000), ('N', 0.0674900000000000), ('S', 0.0632700000000000), ('H', 0.0609400000000000), ('R', 0.0598700000000000), ('D', 0.0425300000000000), ('L', 0.0402500000000000), ('C', 0.0278200000000000), ('U', 0.0275800000000000), ('M', 0.0240600000000000), ('W', 0.0236000000000000), ('F', 0.0222800000000000), ('G', 0.0201500000000000), ('Y', 0.0197400000000000), ('P', 0.0192900000000000), ('B', 0.0149200000000000), ('V', 0.00978000000000000), ('K', 0.00772000000000000), ('J', 0.00153000000000000), ('X', 0.00150000000000000), ('Q', 0.000950000000000000), ('Z', 0.000740000000000000)] \n",
      "\n",
      "CIPHER FREQUENCIES: \n",
      " [(T, 0.230769230769231), (V, 0.115384615384615), (F, 0.115384615384615), (L, 0.115384615384615), (M, 0.115384615384615), (B, 0.0769230769230769), (G, 0.0769230769230769), (C, 0.0384615384615385), (D, 0.0384615384615385), (Y, 0.0384615384615385), (O, 0.0384615384615385)] \n",
      "\n"
     ]
    }
   ],
   "source": [
    "#Computing letter frequencies in English\n",
    "english_freq = AS.characteristic_frequency(table_name=\"lewand\")\n",
    "english_freq = sorted(english_freq.items(),key=operator.itemgetter(1), reverse = True)\n",
    "\n",
    "#Computing letter frequency in the cipher\n",
    "cipher_freq = ciphertext.frequency_distribution(length=1).function()\n",
    "cipher_freq = sorted(cipher_freq.items(),key=operator.itemgetter(1), reverse = True)\n",
    "\n",
    "print (\"ENGLISH FREQUENCIES (LEWAND TABLE): \\n {} \\n\".format(english_freq))\n",
    "print (\"CIPHER FREQUENCIES: \\n {} \\n\".format(cipher_freq))\n"
   ]
  },
  {
   "cell_type": "code",
   "execution_count": null,
   "metadata": {
    "collapsed": true
   },
   "outputs": [],
   "source": []
  }
 ],
 "metadata": {
  "kernelspec": {
   "display_name": "SageMath 8.1",
   "language": "",
   "name": "sagemath"
  },
  "language_info": {
   "codemirror_mode": {
    "name": "ipython",
    "version": 2
   },
   "file_extension": ".py",
   "mimetype": "text/x-python",
   "name": "python",
   "nbconvert_exporter": "python",
   "pygments_lexer": "ipython2",
   "version": "2.7.14"
  }
 },
 "nbformat": 4,
 "nbformat_minor": 2
}
